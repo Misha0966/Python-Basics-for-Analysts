{
 "cells": [
  {
   "cell_type": "markdown",
   "id": "c72154fc-0fc8-4cc8-b675-4cf5bcf5a472",
   "metadata": {},
   "source": [
    "**Условие 1:**\n",
    "\n",
    "Оформляйте ноутбук, используя эти советы:\n",
    "Номер задачи - заголовок 2\n",
    "Номер подзадачи - заголовок 3\n",
    "Предоставленные наборы данных оформляйте, как код\n",
    "Рекомендации для преподавателей по оценке задания:\n",
    "Смотреть, чтобы студент красиво оформлял ноутбук, использовал ячейки с текстом, указывал номера заданий"
   ]
  },
  {
   "cell_type": "markdown",
   "id": "bd7bad59-2c48-4afc-9dbe-bb57dab0797c",
   "metadata": {},
   "source": [
    "**Условие 2:**\n",
    "\n",
    "Условие 2.1:\n",
    "\n",
    "На складе лежат разные фрукты в разном количестве.\n",
    "Нужно написать функцию, которая на вход принимает любое количество названий фруктов и их количество, а возвращает общее количество фруктов на складе, при помощи использования kwargs"
   ]
  },
  {
   "cell_type": "markdown",
   "id": "8be92255-2f2b-428b-a997-b929bfba959b",
   "metadata": {},
   "source": [
    "*Решение:*"
   ]
  },
  {
   "cell_type": "code",
   "execution_count": 11,
   "id": "dddf253b-0ecc-49c2-981f-a6e15801b58e",
   "metadata": {},
   "outputs": [
    {
     "data": {
      "text/plain": [
       "239"
      ]
     },
     "execution_count": 11,
     "metadata": {},
     "output_type": "execute_result"
    }
   ],
   "source": [
    "fruits = {\n",
    "    'apples': 50,\n",
    "    'oranges': 99,\n",
    "    'bananas': 35,\n",
    "    'kiwi': 55\n",
    "}\n",
    "def count_fruits(**kwargs):\n",
    "    total = 0\n",
    "    for value in kwargs.values():\n",
    "        total += value\n",
    "    return total\n",
    "\n",
    "count_fruits(**fruits)"
   ]
  },
  {
   "cell_type": "markdown",
   "id": "95c6a0f8-dca4-4d97-8968-23b86760ced5",
   "metadata": {},
   "source": [
    "Условие 2.2:\n",
    "\n",
    "На складе лежат разные фрукты в разном количестве. Нужно написать функцию, которая на вход принимает любое количество названий фруктов и их количество, а возвращает общее количество фруктов на складе"
   ]
  },
  {
   "cell_type": "markdown",
   "id": "9dc03863-666c-4d1d-a1cd-c53520fb7bd5",
   "metadata": {},
   "source": [
    "*Решение:*"
   ]
  },
  {
   "cell_type": "code",
   "execution_count": 12,
   "id": "550d2969-a23f-4b78-9343-feb7193b30c7",
   "metadata": {},
   "outputs": [
    {
     "data": {
      "text/plain": [
       "239"
      ]
     },
     "execution_count": 12,
     "metadata": {},
     "output_type": "execute_result"
    }
   ],
   "source": [
    "total_amount = sum(fruits.values())\n",
    "total_amount"
   ]
  },
  {
   "cell_type": "markdown",
   "id": "1d7f37b5-8e6c-4469-8d80-a3ec94392750",
   "metadata": {},
   "source": [
    "**Условие 3:**"
   ]
  },
  {
   "cell_type": "markdown",
   "id": "5a87021d-c797-4e3e-b38d-48f3469280e3",
   "metadata": {},
   "source": [
    "Дан список с затратами на рекламу. Но в данных есть ошибки, некоторые затраты имеют отрицательную величину. Удалите такие значения из списка и посчитайте суммарные затраты"
   ]
  },
  {
   "cell_type": "markdown",
   "id": "9a9a697b-eb68-4e26-87ee-409d2d70ac66",
   "metadata": {},
   "source": [
    "**Условие 4:**"
   ]
  },
  {
   "cell_type": "markdown",
   "id": "5161427b-f85f-43cf-9f7a-cf1e8c3e6ac5",
   "metadata": {},
   "source": [
    "*Решение:*"
   ]
  },
  {
   "cell_type": "code",
   "execution_count": 13,
   "id": "98d3575f-7421-439b-a26e-787743161774",
   "metadata": {},
   "outputs": [
    {
     "data": {
      "text/plain": [
       "1425"
      ]
     },
     "execution_count": 13,
     "metadata": {},
     "output_type": "execute_result"
    }
   ],
   "source": [
    "spent = [100, 125, -90, 345, 655, -1, 0, 200]\n",
    "total_spent = sum([x for x in spent if x > 0])\n",
    "total_spent"
   ]
  },
  {
   "cell_type": "markdown",
   "id": "aabca71a-f903-4a23-9e1b-59386fc68a9f",
   "metadata": {},
   "source": [
    "Даны два списка.\n",
    "\n",
    "Дата покупки\n",
    "\n",
    "['2021-09-14', '2021-12-15', '2021-09-08', '2021-12-05', '2021-10-09', '2021-09-30', '2021-12-22', '2021-11-29', '2021-12-24', '2021-11-26', '2021-10-27', '2021-12-18', '2021-11-09', '2021-11-23', '2021-09-27', '2021-10-02', '2021-12-27', '2021-09-20', '2021-12-13', '2021-11-01', '2021-11-09', '2021-12-06', '2021-12-08', '2021-10-09', '2021-10-31', '2021-09-30', '2021-11-09', '2021-12-13', '2021-10-26', '2021-12-09']\n",
    "\n",
    "Суммы покупок по датам\n",
    "\n",
    "[1270, 8413, 9028, 3703, 5739, 4095, 295, 4944, 5723, 3701, 4471, 651, 7037, 4274, 6275, 4988, 6930, 2971, 6592, 2004, 2822, 519, 3406, 2732, 5015, 2008, 316, 6333, 5700, 2887]"
   ]
  },
  {
   "cell_type": "markdown",
   "id": "fe58d509-dc5e-4b33-af46-947db7a0eeea",
   "metadata": {},
   "source": [
    "Условие 4.1:"
   ]
  },
  {
   "cell_type": "markdown",
   "id": "81406e88-032d-4d22-8893-c9bbf71f33b5",
   "metadata": {},
   "source": [
    "Найдите, какая выручка у компании в ноябре\n",
    "Используйте list comprehensions"
   ]
  },
  {
   "cell_type": "markdown",
   "id": "bbcde0d7-b7aa-42f5-82ed-2ebaef1a98bd",
   "metadata": {},
   "source": [
    "*Решение:*"
   ]
  },
  {
   "cell_type": "code",
   "execution_count": 21,
   "id": "03804074-67c2-4e7d-89aa-755cd2e29bc0",
   "metadata": {},
   "outputs": [],
   "source": [
    "Date_purchase = ['2021-09-14', '2021-12-15', '2021-09-08', '2021-12-05', '2021-10-09', '2021-09-30',\n",
    "'2021-12-22', '2021-11-29', '2021-12-24', '2021-11-26', '2021-10-27', '2021-12-18',\n",
    "'2021-11-09', '2021-11-23', '2021-09-27', '2021-10-02', '2021-12-27', '2021-09-20',\n",
    "'2021-12-13', '2021-11-01', '2021-11-09', '2021-12-06', '2021-12-08', '2021-10-09',\n",
    "'2021-10-31', '2021-09-30', '2021-11-09', '2021-12-13', '2021-10-26', '2021-12-09'] "
   ]
  },
  {
   "cell_type": "code",
   "execution_count": 22,
   "id": "7959e30d-f8b5-4f05-8009-09f829f9a7b8",
   "metadata": {},
   "outputs": [],
   "source": [
    "amounts_date = [1270, 8413, 9028, 3703, 5739, 4095, 295, 4944, 5723, 3701, 4471, 651, 7037, 4274, 6275, 4988, 6930, 2971,\n",
    "6592, 2004, 2822, 519, 3406, 2732, 5015, 2008, 316, 6333, 5700, 2887]"
   ]
  },
  {
   "cell_type": "code",
   "execution_count": 23,
   "id": "383bcfd3-6ca7-4de4-bfc9-31f8a220d9f5",
   "metadata": {},
   "outputs": [
    {
     "data": {
      "text/plain": [
       "25098"
      ]
     },
     "execution_count": 23,
     "metadata": {},
     "output_type": "execute_result"
    }
   ],
   "source": [
    "November = sum([amounts_date[i] for i in range(len(Date_purchase)) if Date_purchase[i].startswith('2021-11')])\n",
    "November"
   ]
  },
  {
   "cell_type": "markdown",
   "id": "d9c89843-bf00-4677-ad64-eae41c4272e0",
   "metadata": {},
   "source": [
    "**Условие 4.2:**"
   ]
  },
  {
   "cell_type": "markdown",
   "id": "0a94c62d-0dbb-4133-9673-c7d993c48040",
   "metadata": {},
   "source": [
    "Найдите выручку компании в зависимости от месяца\n",
    "Для этого напишите функцию, которая на вход принимает список с датами и список с выручкой, а на выходе словарь, где ключи - это месяцы, а значения - это выручка.\n",
    "Используйте аннотирование типов."
   ]
  },
  {
   "cell_type": "markdown",
   "id": "404a0641-d02b-43c2-b9b7-87fad6382d67",
   "metadata": {},
   "source": [
    "*Решение:*"
   ]
  },
  {
   "cell_type": "code",
   "execution_count": 24,
   "id": "5c1606c5-72a6-43ed-90f9-272fac7b3896",
   "metadata": {},
   "outputs": [
    {
     "data": {
      "text/plain": [
       "{'09': 25647, '12': 45452, '10': 28645, '11': 25098}"
      ]
     },
     "execution_count": 24,
     "metadata": {},
     "output_type": "execute_result"
    }
   ],
   "source": [
    "def find_revenue(dates: list[str], amounts: list[int]):\n",
    "    revenue = {} \n",
    "    for date, amount in zip(dates, amounts): \n",
    "        month = date.split('-')[1]\n",
    "        revenue[month] = revenue.get(month, 0) + amount \n",
    "    return revenue\n",
    "find_revenue(Date_purchase, amounts_date)"
   ]
  }
 ],
 "metadata": {
  "kernelspec": {
   "display_name": "anaconda-2022.05-py39",
   "language": "python",
   "name": "conda-env-anaconda-2022.05-py39-py"
  },
  "language_info": {
   "codemirror_mode": {
    "name": "ipython",
    "version": 3
   },
   "file_extension": ".py",
   "mimetype": "text/x-python",
   "name": "python",
   "nbconvert_exporter": "python",
   "pygments_lexer": "ipython3",
   "version": "3.9.12"
  },
  "toc-showtags": false
 },
 "nbformat": 4,
 "nbformat_minor": 5
}
